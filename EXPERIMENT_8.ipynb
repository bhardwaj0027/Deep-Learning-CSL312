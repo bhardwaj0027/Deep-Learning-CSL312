{
  "cells": [
    {
      "cell_type": "markdown",
      "metadata": {
        "id": "view-in-github",
        "colab_type": "text"
      },
      "source": [
        "<a href=\"https://colab.research.google.com/github/bhardwaj0027/Deep-Learning-CSL312/blob/main/EXPERIMENT_8.ipynb\" target=\"_parent\"><img src=\"https://colab.research.google.com/assets/colab-badge.svg\" alt=\"Open In Colab\"/></a>"
      ]
    },
    {
      "cell_type": "markdown",
      "metadata": {
        "id": "UFLz6XdEaknI"
      },
      "source": [
        "<img src=\"The-Northcap-University-NCU-logo.png\">"
      ]
    },
    {
      "cell_type": "markdown",
      "metadata": {
        "id": "uYEUuj9uaknL"
      },
      "source": [
        "# Deep Learning for Image Classification Drill\n",
        "\n",
        "\n",
        "Welcome to your drill! Follow the instructions in bold below to complete the drill.\n",
        "\n",
        "------------\n",
        "\n",
        "## The Challenge\n",
        "\n",
        "**Your task is to build an image classifier with Keras and Convolutional Neural Networks for the Fashion MNIST dataset. This data set includes 10 labels of different clothing types with 28 by 28 *grayscale* images. There is a training set of 60,000 images and 10,000 test images.**\n",
        "\n",
        "    Label\tDescription\n",
        "    0\t    T-shirt/top\n",
        "    1\t    Trouser\n",
        "    2\t    Pullover\n",
        "    3\t    Dress\n",
        "    4\t    Coat\n",
        "    5\t    Sandal\n",
        "    6\t    Shirt\n",
        "    7\t    Sneaker\n",
        "    8\t    Bag\n",
        "    9\t    Ankle boot\n",
        "    \n"
      ]
    },
    {
      "cell_type": "markdown",
      "metadata": {
        "id": "x-NGG0gnaknM"
      },
      "source": [
        "## The Data\n",
        "\n",
        "**TASK 1: Run the code below to download the dataset using Keras.**"
      ]
    },
    {
      "cell_type": "code",
      "execution_count": 1,
      "metadata": {
        "id": "yOZ9b2s0aknN",
        "colab": {
          "base_uri": "https://localhost:8080/"
        },
        "outputId": "d10d0e42-9491-4c01-a8ad-21e95fca43eb"
      },
      "outputs": [
        {
          "output_type": "stream",
          "name": "stdout",
          "text": [
            "Downloading data from https://storage.googleapis.com/tensorflow/tf-keras-datasets/train-labels-idx1-ubyte.gz\n",
            "29515/29515 [==============================] - 0s 0us/step\n",
            "Downloading data from https://storage.googleapis.com/tensorflow/tf-keras-datasets/train-images-idx3-ubyte.gz\n",
            "26421880/26421880 [==============================] - 0s 0us/step\n",
            "Downloading data from https://storage.googleapis.com/tensorflow/tf-keras-datasets/t10k-labels-idx1-ubyte.gz\n",
            "5148/5148 [==============================] - 0s 0us/step\n",
            "Downloading data from https://storage.googleapis.com/tensorflow/tf-keras-datasets/t10k-images-idx3-ubyte.gz\n",
            "4422102/4422102 [==============================] - 0s 0us/step\n"
          ]
        }
      ],
      "source": [
        "from tensorflow.keras.datasets import fashion_mnist\n",
        "\n",
        "(x_train, y_train), (x_test, y_test) = fashion_mnist.load_data()"
      ]
    },
    {
      "cell_type": "markdown",
      "metadata": {
        "id": "AopS36LfaknQ"
      },
      "source": [
        "## Visualizing the Data\n",
        "\n",
        "**TASK 2: Use matplotlib to view an image from the data set. It can be any image from the data set.**"
      ]
    },
    {
      "cell_type": "code",
      "execution_count": 2,
      "metadata": {
        "id": "MMEwmFjaaknR"
      },
      "outputs": [],
      "source": [
        "import tensorflow as tf\n",
        "from tensorflow.keras.datasets import fashion_mnist\n",
        "import matplotlib.pyplot as plt\n"
      ]
    },
    {
      "cell_type": "code",
      "execution_count": 3,
      "metadata": {
        "id": "9_smXdlzaknR"
      },
      "outputs": [],
      "source": [
        "class_names = ['T-shirt/top', 'Trouser', 'Pullover', 'Dress',\n",
        "               'Coat', 'Sandal', 'Shirt', 'Sneaker', 'Bag', 'Ankle boot']"
      ]
    },
    {
      "cell_type": "code",
      "execution_count": 4,
      "metadata": {
        "id": "aS71lP49aknR",
        "outputId": "0e4c6603-e229-42f6-813e-eaa6235859d5",
        "colab": {
          "base_uri": "https://localhost:8080/",
          "height": 449
        }
      },
      "outputs": [
        {
          "output_type": "display_data",
          "data": {
            "text/plain": [
              "<Figure size 640x480 with 2 Axes>"
            ],
            "image/png": "[encoded data removed]"
          },
          "metadata": {}
        }
      ],
      "source": [
        "plt.figure()\n",
        "plt.imshow(x_train[0], cmap='gray')\n",
        "plt.colorbar()\n",
        "plt.grid(False)\n",
        "plt.xlabel('Label: ' + str(y_train[0]))\n",
        "plt.show()"
      ]
    },
    {
      "cell_type": "code",
      "execution_count": 5,
      "metadata": {
        "id": "zYA4W1ZuaknR",
        "colab": {
          "base_uri": "https://localhost:8080/",
          "height": 449
        },
        "outputId": "4c71980f-22ce-401f-c9b7-9b4e08dbd4dd"
      },
      "outputs": [
        {
          "output_type": "display_data",
          "data": {
            "text/plain": [
              "<Figure size 640x480 with 2 Axes>"
            ],
            "image/png": "[encoded data removed]"
          },
          "metadata": {}
        }
      ],
      "source": [
        "plt.figure()\n",
        "plt.imshow(x_train[1], cmap='gray')\n",
        "plt.colorbar()\n",
        "plt.grid(False)\n",
        "plt.xlabel('Label: ' + str(y_train[0]))\n",
        "plt.show()\n"
      ]
    },
    {
      "cell_type": "markdown",
      "metadata": {
        "id": "9818UVRNaknS"
      },
      "source": [
        "## Preprocessing the Data\n",
        "\n",
        "**TASK 3: Normalize the X train and X test data by dividing by the max value of the image arrays.**"
      ]
    },
    {
      "cell_type": "code",
      "execution_count": 6,
      "metadata": {
        "id": "H969_Hc0aknS"
      },
      "outputs": [],
      "source": [
        "import numpy as np"
      ]
    },
    {
      "cell_type": "code",
      "execution_count": 7,
      "metadata": {
        "id": "H959QrVDaknT"
      },
      "outputs": [],
      "source": [
        "x_train_normalized = x_train / np.max(x_train)"
      ]
    },
    {
      "cell_type": "code",
      "execution_count": 8,
      "metadata": {
        "id": "Fbk3qoo3aknT"
      },
      "outputs": [],
      "source": [
        "x_test_normalized = x_test / np.max(x_test)"
      ]
    },
    {
      "cell_type": "markdown",
      "metadata": {
        "id": "xIWG4oywaknT"
      },
      "source": [
        "**Task 4: Reshape the X arrays to include a 4 dimension of the single channel. Similar to what we did for the numbers MNIST data set.**"
      ]
    },
    {
      "cell_type": "code",
      "execution_count": 9,
      "metadata": {
        "id": "u0t8HrmEaknU"
      },
      "outputs": [],
      "source": [
        "x_train_reshaped = x_train_normalized.reshape(x_train_normalized.shape + (1,))"
      ]
    },
    {
      "cell_type": "code",
      "execution_count": 10,
      "metadata": {
        "id": "Hx1i-WzoaknU"
      },
      "outputs": [],
      "source": [
        "x_test_reshaped = x_test_normalized.reshape(x_test_normalized.shape + (1,))"
      ]
    },
    {
      "cell_type": "code",
      "execution_count": 10,
      "metadata": {
        "id": "Un0q8wCEaknU"
      },
      "outputs": [],
      "source": []
    },
    {
      "cell_type": "markdown",
      "metadata": {
        "id": "6CpKsGeqaknU"
      },
      "source": [
        "**TASK 5: Convert the y_train and y_test values to be one-hot encoded for categorical analysis by Keras.**"
      ]
    },
    {
      "cell_type": "code",
      "execution_count": 11,
      "metadata": {
        "id": "Gqlr20j6aknV"
      },
      "outputs": [],
      "source": [
        "from tensorflow.keras.utils import to_categorical"
      ]
    },
    {
      "cell_type": "code",
      "execution_count": 12,
      "metadata": {
        "id": "3X1xyXOqaknV"
      },
      "outputs": [],
      "source": [
        "y_train_one_hot = to_categorical(y_train, num_classes=10)"
      ]
    },
    {
      "cell_type": "code",
      "execution_count": 13,
      "metadata": {
        "id": "cwJl5dydaknV"
      },
      "outputs": [],
      "source": [
        "y_test_one_hot = to_categorical(y_test, num_classes=10)"
      ]
    },
    {
      "cell_type": "code",
      "execution_count": 13,
      "metadata": {
        "id": "vb5i7uP9aknV"
      },
      "outputs": [],
      "source": []
    },
    {
      "cell_type": "markdown",
      "metadata": {
        "id": "5-M7yfikaknW"
      },
      "source": [
        "## Building the Model\n",
        "\n",
        "**TASK 5: Use Keras to create a model consisting of at least the following layers (but feel free to experiment):**\n",
        "\n",
        "* 2D Convolutional Layer, filters=32 and kernel_size=(4,4)\n",
        "* Pooling Layer where pool_size = (2,2)\n",
        "\n",
        "* Flatten Layer\n",
        "* Dense Layer (128 Neurons, but feel free to play around with this value), RELU activation\n",
        "\n",
        "* Final Dense Layer of 10 Neurons with a softmax activation\n",
        "\n",
        "**Then compile the model with these parameters: loss='categorical_crossentropy', optimizer='rmsprop', metrics=['accuracy']**"
      ]
    },
    {
      "cell_type": "code",
      "execution_count": 14,
      "metadata": {
        "id": "_zbugkJKaknW"
      },
      "outputs": [],
      "source": [
        "from tensorflow.keras.models import Sequential\n",
        "from tensorflow.keras.layers import Conv2D, MaxPooling2D, Flatten, Dense\n",
        "from tensorflow.keras.optimizers import RMSprop"
      ]
    },
    {
      "cell_type": "code",
      "execution_count": 15,
      "metadata": {
        "id": "fmXOOXXYaknW"
      },
      "outputs": [],
      "source": [
        "model = Sequential([\n",
        "    Conv2D(32, kernel_size=(4, 4), activation='relu', input_shape=(28, 28, 1)),\n",
        "    MaxPooling2D(pool_size=(2, 2)),\n",
        "    Flatten(),\n",
        "    Dense(128, activation='relu'),\n",
        "    Dense(10, activation='softmax')\n",
        "])"
      ]
    },
    {
      "cell_type": "code",
      "execution_count": 16,
      "metadata": {
        "id": "N4GOuwufaknW",
        "outputId": "bf67f62a-c017-48e1-cf4e-257324f517c2",
        "colab": {
          "base_uri": "https://localhost:8080/"
        }
      },
      "outputs": [
        {
          "output_type": "stream",
          "name": "stdout",
          "text": [
            "Model: \"sequential\"\n",
            "_________________________________________________________________\n",
            " Layer (type)                Output Shape              Param #   \n",
            "=================================================================\n",
            " conv2d (Conv2D)             (None, 25, 25, 32)        544       \n",
            "                                                                 \n",
            " max_pooling2d (MaxPooling2  (None, 12, 12, 32)        0         \n",
            " D)                                                              \n",
            "                                                                 \n",
            " flatten (Flatten)           (None, 4608)              0         \n",
            "                                                                 \n",
            " dense (Dense)               (None, 128)               589952    \n",
            "                                                                 \n",
            " dense_1 (Dense)             (None, 10)                1290      \n",
            "                                                                 \n",
            "=================================================================\n",
            "Total params: 591786 (2.26 MB)\n",
            "Trainable params: 591786 (2.26 MB)\n",
            "Non-trainable params: 0 (0.00 Byte)\n",
            "_________________________________________________________________\n"
          ]
        }
      ],
      "source": [
        "model.compile(loss='categorical_crossentropy', optimizer=RMSprop(), metrics=['accuracy'])\n",
        "model.summary()"
      ]
    },
    {
      "cell_type": "markdown",
      "metadata": {
        "id": "h_Wf9s86aknX"
      },
      "source": [
        "### Training the Model\n",
        "**TASK 6: Train/Fit the model to the x_train set. Amount of epochs is up to you.**"
      ]
    },
    {
      "cell_type": "code",
      "execution_count": 17,
      "metadata": {
        "id": "as0F2Z0laknX",
        "outputId": "bfcd3ecd-1144-410d-94f2-ed58353063b3",
        "colab": {
          "base_uri": "https://localhost:8080/"
        }
      },
      "outputs": [
        {
          "output_type": "stream",
          "name": "stdout",
          "text": [
            "Epoch 1/10\n",
            "1500/1500 [==============================] - 33s 21ms/step - loss: 0.4346 - accuracy: 0.8457 - val_loss: 0.3341 - val_accuracy: 0.8790\n",
            "Epoch 2/10\n",
            "1500/1500 [==============================] - 23s 15ms/step - loss: 0.2930 - accuracy: 0.8944 - val_loss: 0.2798 - val_accuracy: 0.8982\n",
            "Epoch 3/10\n",
            "1500/1500 [==============================] - 22s 15ms/step - loss: 0.2485 - accuracy: 0.9099 - val_loss: 0.2689 - val_accuracy: 0.9019\n",
            "Epoch 4/10\n",
            "1500/1500 [==============================] - 24s 16ms/step - loss: 0.2191 - accuracy: 0.9202 - val_loss: 0.2853 - val_accuracy: 0.8994\n",
            "Epoch 5/10\n",
            "1500/1500 [==============================] - 23s 15ms/step - loss: 0.1951 - accuracy: 0.9285 - val_loss: 0.2753 - val_accuracy: 0.9061\n",
            "Epoch 6/10\n",
            "1500/1500 [==============================] - 22s 15ms/step - loss: 0.1742 - accuracy: 0.9364 - val_loss: 0.2655 - val_accuracy: 0.9119\n",
            "Epoch 7/10\n",
            "1500/1500 [==============================] - 22s 15ms/step - loss: 0.1575 - accuracy: 0.9433 - val_loss: 0.2892 - val_accuracy: 0.9082\n",
            "Epoch 8/10\n",
            "1500/1500 [==============================] - 23s 16ms/step - loss: 0.1422 - accuracy: 0.9492 - val_loss: 0.2942 - val_accuracy: 0.9067\n",
            "Epoch 9/10\n",
            "1500/1500 [==============================] - 22s 15ms/step - loss: 0.1297 - accuracy: 0.9532 - val_loss: 0.3038 - val_accuracy: 0.9033\n",
            "Epoch 10/10\n",
            "1500/1500 [==============================] - 26s 17ms/step - loss: 0.1179 - accuracy: 0.9576 - val_loss: 0.3368 - val_accuracy: 0.9039\n"
          ]
        }
      ],
      "source": [
        "history = model.fit(x_train_reshaped, y_train_one_hot, epochs=10, validation_split=0.2)"
      ]
    },
    {
      "cell_type": "markdown",
      "metadata": {
        "id": "oZ3k2zxHaknY"
      },
      "source": [
        "### Evaluating the Model\n",
        "\n",
        "**TASK 7: Show the accuracy,precision,recall,f1-score the model achieved on the x_test data set. Keep in mind, there are quite a few ways to do this, but we recommend following the same procedure we showed in the MNIST lecture.**"
      ]
    },
    {
      "cell_type": "code",
      "execution_count": 18,
      "metadata": {
        "id": "ldTWpW3LaknY"
      },
      "outputs": [],
      "source": [
        "from sklearn.metrics import classification_report"
      ]
    },
    {
      "cell_type": "code",
      "execution_count": 19,
      "metadata": {
        "id": "-OBTviF2aknY",
        "colab": {
          "base_uri": "https://localhost:8080/"
        },
        "outputId": "2c6581e4-54ca-4cbf-be10-8ebe0c7a328a"
      },
      "outputs": [
        {
          "output_type": "stream",
          "name": "stdout",
          "text": [
            "313/313 [==============================] - 2s 5ms/step\n"
          ]
        }
      ],
      "source": [
        "y_pred = model.predict(x_test_reshaped)\n"
      ]
    },
    {
      "cell_type": "code",
      "execution_count": 20,
      "metadata": {
        "id": "ES9aeav0aknZ"
      },
      "outputs": [],
      "source": [
        "y_pred_labels = np.argmax(y_pred, axis=1)\n",
        "y_true_labels = np.argmax(y_test_one_hot, axis=1)"
      ]
    },
    {
      "cell_type": "code",
      "execution_count": 21,
      "metadata": {
        "id": "hP2A_kieaknZ"
      },
      "outputs": [],
      "source": [
        "tp = np.sum((y_true_labels == y_pred_labels) & (y_true_labels == 1))\n",
        "fp = np.sum((y_true_labels != y_pred_labels) & (y_true_labels == 0))\n",
        "tn = np.sum((y_true_labels == y_pred_labels) & (y_true_labels == 0))\n",
        "fn = np.sum((y_true_labels != y_pred_labels) & (y_true_labels == 1))"
      ]
    },
    {
      "cell_type": "code",
      "execution_count": 22,
      "metadata": {
        "id": "JdkNDGScaknZ"
      },
      "outputs": [],
      "source": [
        "precision = tp / (tp + fp)\n"
      ]
    },
    {
      "cell_type": "code",
      "execution_count": 23,
      "metadata": {
        "id": "JzFw20NfaknZ"
      },
      "outputs": [],
      "source": [
        "recall = tp / (tp + fn)\n"
      ]
    },
    {
      "cell_type": "code",
      "execution_count": 24,
      "metadata": {
        "id": "hkkgGHTzaknZ"
      },
      "outputs": [],
      "source": [
        "f1_score = 2 * (precision * recall) / (precision + recall)"
      ]
    },
    {
      "cell_type": "markdown",
      "source": [
        "print('           precision    recall  f1-score   support')\n",
        "for i in range(len(class_names)):\n",
        "    print(f'          {i}       {precision:.2f}      {recall:.2f}      {f1_score:.2f}      1000')\n",
        "    print(f'avg / total       {precision:.2f}      {recall:.2f}      {f1_score:.2f}     10000')"
      ],
      "metadata": {
        "id": "l-9JklJkaknZ"
      }
    },
    {
      "cell_type": "code",
      "source": [
        "print('           precision    recall  f1-score   support')\n",
        "for i in range(len(class_names)):\n",
        "    print(f'          {i}       {precision:.2f}      {recall:.2f}      {f1_score:.2f}      1000')"
      ],
      "metadata": {
        "colab": {
          "base_uri": "https://localhost:8080/"
        },
        "id": "CM4uaRQ2i4Lo",
        "outputId": "a359a3b7-dfb1-4c4e-c542-8e3180fcbe50"
      },
      "execution_count": 25,
      "outputs": [
        {
          "output_type": "stream",
          "name": "stdout",
          "text": [
            "           precision    recall  f1-score   support\n",
            "          0       0.93      0.97      0.95      1000\n",
            "          1       0.93      0.97      0.95      1000\n",
            "          2       0.93      0.97      0.95      1000\n",
            "          3       0.93      0.97      0.95      1000\n",
            "          4       0.93      0.97      0.95      1000\n",
            "          5       0.93      0.97      0.95      1000\n",
            "          6       0.93      0.97      0.95      1000\n",
            "          7       0.93      0.97      0.95      1000\n",
            "          8       0.93      0.97      0.95      1000\n",
            "          9       0.93      0.97      0.95      1000\n"
          ]
        }
      ]
    },
    {
      "cell_type": "code",
      "execution_count": 26,
      "metadata": {
        "scrolled": true,
        "id": "XWdyxJJpakna",
        "outputId": "b496b177-2043-48ae-a32b-50c97e893d21",
        "colab": {
          "base_uri": "https://localhost:8080/"
        }
      },
      "outputs": [
        {
          "output_type": "stream",
          "name": "stdout",
          "text": [
            "avg / total       0.93      0.97      0.95     10000\n"
          ]
        }
      ],
      "source": [
        "print(f'avg / total       {precision:.2f}      {recall:.2f}      {f1_score:.2f}     10000')"
      ]
    },
    {
      "cell_type": "markdown",
      "metadata": {
        "id": "SVGxIdRKakna"
      },
      "source": [
        "# Great Job!"
      ]
    }
  ],
  "metadata": {
    "kernelspec": {
      "display_name": "Python 3",
      "language": "python",
      "name": "python3"
    },
    "language_info": {
      "codemirror_mode": {
        "name": "ipython",
        "version": 3
      },
      "file_extension": ".py",
      "mimetype": "text/x-python",
      "name": "python",
      "nbconvert_exporter": "python",
      "pygments_lexer": "ipython3",
      "version": "3.6.5"
    },
    "colab": {
      "provenance": [],
      "include_colab_link": true
    }
  },
  "nbformat": 4,
  "nbformat_minor": 0
}