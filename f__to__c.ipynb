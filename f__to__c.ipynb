{
  "nbformat": 4,
  "nbformat_minor": 0,
  "metadata": {
    "colab": {
      "provenance": [],
      "authorship_tag": "ABX9TyPnSoJHOXxbOOCu0m8GPr/Q",
      "include_colab_link": true
    },
    "kernelspec": {
      "name": "python3",
      "display_name": "Python 3"
    },
    "language_info": {
      "name": "python"
    }
  },
  "cells": [
    {
      "cell_type": "markdown",
      "metadata": {
        "id": "view-in-github",
        "colab_type": "text"
      },
      "source": [
        "<a href=\"https://colab.research.google.com/github/bhardwaj0027/Deep-Learning-CSL312/blob/main/f__to__c.ipynb\" target=\"_parent\"><img src=\"https://colab.research.google.com/assets/colab-badge.svg\" alt=\"Open In Colab\"/></a>"
      ]
    },
    {
      "cell_type": "code",
      "execution_count": 2,
      "metadata": {
        "colab": {
          "base_uri": "https://localhost:8080/"
        },
        "id": "NzO5io5wcrHW",
        "outputId": "64d67272-6e4f-45c5-aed2-e29788917574"
      },
      "outputs": [
        {
          "output_type": "stream",
          "name": "stdout",
          "text": [
            "        optimizer  train_accuracy  val_accuracy  train_loss    val_loss\n",
            "Model_1      adam             0.0           0.0 -345.681732 -305.784607\n",
            "Model_2      adam             0.0           0.0 -549.159607 -390.205933\n",
            "Model_3      adam             0.0           0.0 -276.491547 -232.997421\n",
            "Model_4      adam             0.0           0.0 -364.322388 -345.855621\n",
            "1/1 [==============================] - 0s 131ms/step\n",
            "Predicted Value for Sample Input: [[1.]]\n"
          ]
        }
      ],
      "source": [
        "import pandas as pd\n",
        "from sklearn.model_selection import train_test_split\n",
        "import numpy as np\n",
        "from tensorflow.keras.models import Sequential\n",
        "from tensorflow.keras.layers import Dense\n",
        "from tensorflow.keras.optimizers import Adam\n",
        "\n",
        "# Load data from CSV file\n",
        "data = pd.read_csv(\"temp.csv\")\n",
        "\n",
        "# Assuming the last column is the label, and rest are features\n",
        "X = data.iloc[:, :-1].values\n",
        "y = data.iloc[:, -1].values\n",
        "\n",
        "# Split data into training and validation sets\n",
        "X_train, X_val, y_train, y_val = train_test_split(X, y, test_size=0.2, random_state=42)\n",
        "\n",
        "def create_model(neurons_1, neurons_2, optimizer):\n",
        "    model = Sequential()\n",
        "    model.add(Dense(neurons_1, input_dim=X_train.shape[1], activation='relu'))\n",
        "    model.add(Dense(neurons_2, activation='relu'))\n",
        "    model.add(Dense(1, activation='sigmoid'))\n",
        "\n",
        "    model.compile(loss='binary_crossentropy', optimizer=optimizer, metrics=['accuracy'])\n",
        "    return model\n",
        "\n",
        "# Define different configurations\n",
        "configurations = [\n",
        "    (64, 64, 'adam'),\n",
        "    (128, 128, 'adam'),\n",
        "    (64, 128, 'adam'),\n",
        "    (128, 64, 'adam'),\n",
        "]\n",
        "# Store results in a dictionary\n",
        "results = {}\n",
        "\n",
        "# Train models and store results\n",
        "for i, (neurons_1, neurons_2, optimizer) in enumerate(configurations):\n",
        "    model = create_model(neurons_1, neurons_2, optimizer)\n",
        "    history = model.fit(X_train, y_train, epochs=10, batch_size=32, validation_data=(X_val, y_val), verbose=0)\n",
        "    results[f'Model_{i+1}'] = {\n",
        "        'optimizer': optimizer,\n",
        "        'train_accuracy': history.history['accuracy'][-1],\n",
        "        'val_accuracy': history.history['val_accuracy'][-1],\n",
        "        'train_loss': history.history['loss'][-1],\n",
        "        'val_loss': history.history['val_loss'][-1],\n",
        "    }\n",
        "\n",
        "# Display results in a table\n",
        "results_df = pd.DataFrame.from_dict(results, orient='index')\n",
        "print(results_df)\n",
        "\n",
        "# Predict one value using the first model\n",
        "sample_input = X_val[0].reshape(1, -1)\n",
        "predicted_value = model.predict(sample_input)\n",
        "print(f\"Predicted Value for Sample Input: {predicted_value}\")"
      ]
    }
  ]
}