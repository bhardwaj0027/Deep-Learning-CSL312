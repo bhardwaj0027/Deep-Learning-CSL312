{
  "cells": [
    {
      "cell_type": "markdown",
      "metadata": {
        "id": "view-in-github",
        "colab_type": "text"
      },
      "source": [
        "<a href=\"https://colab.research.google.com/github/bhardwaj0027/Deep-Learning-CSL312/blob/main/Experiment_3.ipynb\" target=\"_parent\"><img src=\"https://colab.research.google.com/assets/colab-badge.svg\" alt=\"Open In Colab\"/></a>"
      ]
    },
    {
      "cell_type": "code",
      "source": [
        "import pandas as pd\n",
        "from sklearn.model_selection import train_test_split\n",
        "from sklearn.preprocessing import StandardScaler\n",
        "\n",
        "# Load the dataset\n",
        "data = pd.read_csv('/content/08_kc_house_data.csv')\n",
        "\n",
        "# Display the first few rows of the dataset to understand its structure\n",
        "print(data.head())"
      ],
      "metadata": {
        "colab": {
          "base_uri": "https://localhost:8080/"
        },
        "id": "afZKeNne24J-",
        "outputId": "62563f42-8908-4f23-91ea-9b60734d854a"
      },
      "execution_count": null,
      "outputs": [
        {
          "output_type": "stream",
          "name": "stdout",
          "text": [
            "           id        date     price  bedrooms  bathrooms  sqft_living  \\\n",
            "0  7129300520  10/13/2014  221900.0         3       1.00         1180   \n",
            "1  6414100192   12/9/2014  538000.0         3       2.25         2570   \n",
            "2  5631500400   2/25/2015  180000.0         2       1.00          770   \n",
            "3  2487200875   12/9/2014  604000.0         4       3.00         1960   \n",
            "4  1954400510   2/18/2015  510000.0         3       2.00         1680   \n",
            "\n",
            "   sqft_lot  floors  waterfront  view  ...  grade  sqft_above  sqft_basement  \\\n",
            "0      5650     1.0           0     0  ...      7        1180              0   \n",
            "1      7242     2.0           0     0  ...      7        2170            400   \n",
            "2     10000     1.0           0     0  ...      6         770              0   \n",
            "3      5000     1.0           0     0  ...      7        1050            910   \n",
            "4      8080     1.0           0     0  ...      8        1680              0   \n",
            "\n",
            "   yr_built  yr_renovated  zipcode      lat     long  sqft_living15  \\\n",
            "0      1955             0    98178  47.5112 -122.257           1340   \n",
            "1      1951          1991    98125  47.7210 -122.319           1690   \n",
            "2      1933             0    98028  47.7379 -122.233           2720   \n",
            "3      1965             0    98136  47.5208 -122.393           1360   \n",
            "4      1987             0    98074  47.6168 -122.045           1800   \n",
            "\n",
            "   sqft_lot15  \n",
            "0        5650  \n",
            "1        7639  \n",
            "2        8062  \n",
            "3        5000  \n",
            "4        7503  \n",
            "\n",
            "[5 rows x 21 columns]\n"
          ]
        }
      ]
    },
    {
      "cell_type": "code",
      "source": [
        "X = data.drop(['id', 'date', 'price'], axis=1)\n",
        "y = data['price']\n",
        "X_train, X_test, y_train, y_test = train_test_split(X, y, test_size=0.2, random_state=42)\n",
        "\n",
        "print(\"Training set shape:\", X_train.shape, y_train.shape)\n",
        "print(\"Testing set shape:\", X_test.shape, y_test.shape)"
      ],
      "metadata": {
        "colab": {
          "base_uri": "https://localhost:8080/"
        },
        "id": "yT1U0B4H2-U3",
        "outputId": "97d66400-45d0-4204-c519-538824d4e6da"
      },
      "execution_count": null,
      "outputs": [
        {
          "output_type": "stream",
          "name": "stdout",
          "text": [
            "Training set shape: (17277, 18) (17277,)\n",
            "Testing set shape: (4320, 18) (4320,)\n"
          ]
        }
      ]
    },
    {
      "cell_type": "code",
      "source": [
        "scaler = StandardScaler()\n",
        "X_train_scaled = scaler.fit_transform(X_train)\n",
        "X_test_scaled = scaler.transform(X_test)\n"
      ],
      "metadata": {
        "id": "QyYNtPPM3Q7I"
      },
      "execution_count": null,
      "outputs": []
    },
    {
      "cell_type": "code",
      "source": [
        "from keras.models import Sequential\n",
        "from keras.layers import Dense\n",
        "\n",
        "model = Sequential()\n",
        "model.add(Dense(units=256, activation='relu', input_shape=(X_train_scaled.shape[1],)))\n",
        "model.add(Dense(units=128, activation='relu'))\n",
        "model.add(Dense(units=64, activation='relu'))\n",
        "model.add(Dense(units=1, activation='linear'))\n",
        "\n",
        "model.compile(optimizer='adam', loss='mean_squared_error', metrics=['mae'])\n",
        "print(model.summary())"
      ],
      "metadata": {
        "colab": {
          "base_uri": "https://localhost:8080/"
        },
        "id": "rzmk0pLm3Thq",
        "outputId": "e3f1c373-322f-423e-d7d4-902a3516db0a"
      },
      "execution_count": null,
      "outputs": [
        {
          "output_type": "stream",
          "name": "stdout",
          "text": [
            "Model: \"sequential_2\"\n",
            "_________________________________________________________________\n",
            " Layer (type)                Output Shape              Param #   \n",
            "=================================================================\n",
            " dense_5 (Dense)             (None, 256)               4864      \n",
            "                                                                 \n",
            " dense_6 (Dense)             (None, 128)               32896     \n",
            "                                                                 \n",
            " dense_7 (Dense)             (None, 64)                8256      \n",
            "                                                                 \n",
            " dense_8 (Dense)             (None, 1)                 65        \n",
            "                                                                 \n",
            "=================================================================\n",
            "Total params: 46081 (180.00 KB)\n",
            "Trainable params: 46081 (180.00 KB)\n",
            "Non-trainable params: 0 (0.00 Byte)\n",
            "_________________________________________________________________\n",
            "None\n"
          ]
        }
      ]
    },
    {
      "cell_type": "code",
      "source": [
        "history = model.fit(X_train_scaled, y_train, epochs=50, batch_size=32, validation_split=0.1)"
      ],
      "metadata": {
        "colab": {
          "base_uri": "https://localhost:8080/"
        },
        "id": "3K4vbvAa4HYq",
        "outputId": "e8375e15-f380-4cda-c51f-c3fe1aaa6722"
      },
      "execution_count": null,
      "outputs": [
        {
          "output_type": "stream",
          "name": "stdout",
          "text": [
            "Epoch 1/50\n",
            "486/486 [==============================] - 2s 5ms/step - loss: 30777370624.0000 - mae: 107757.2266 - val_loss: 30297239552.0000 - val_mae: 111781.1484\n",
            "Epoch 2/50\n",
            "486/486 [==============================] - 2s 4ms/step - loss: 30447241216.0000 - mae: 107194.1094 - val_loss: 30309736448.0000 - val_mae: 112088.6094\n",
            "Epoch 3/50\n",
            "486/486 [==============================] - 2s 5ms/step - loss: 30085793792.0000 - mae: 107230.9297 - val_loss: 30056128512.0000 - val_mae: 109938.1641\n",
            "Epoch 4/50\n",
            "486/486 [==============================] - 2s 5ms/step - loss: 30054103040.0000 - mae: 106247.8281 - val_loss: 29959612416.0000 - val_mae: 111377.8438\n",
            "Epoch 5/50\n",
            "486/486 [==============================] - 1s 3ms/step - loss: 29833668608.0000 - mae: 106129.4688 - val_loss: 29698045952.0000 - val_mae: 110301.8828\n",
            "Epoch 6/50\n",
            "486/486 [==============================] - 2s 3ms/step - loss: 29697226752.0000 - mae: 105624.0938 - val_loss: 29780604928.0000 - val_mae: 110859.5547\n",
            "Epoch 7/50\n",
            "486/486 [==============================] - 1s 3ms/step - loss: 29567621120.0000 - mae: 105842.9844 - val_loss: 29457582080.0000 - val_mae: 108894.0547\n",
            "Epoch 8/50\n",
            "486/486 [==============================] - 1s 3ms/step - loss: 29308145664.0000 - mae: 105330.3750 - val_loss: 29500340224.0000 - val_mae: 110050.5078\n",
            "Epoch 9/50\n",
            "486/486 [==============================] - 1s 3ms/step - loss: 29229076480.0000 - mae: 104893.6797 - val_loss: 29316489216.0000 - val_mae: 109310.0625\n",
            "Epoch 10/50\n",
            "486/486 [==============================] - 2s 3ms/step - loss: 29142978560.0000 - mae: 105105.8906 - val_loss: 29265612800.0000 - val_mae: 108305.5078\n",
            "Epoch 11/50\n",
            "486/486 [==============================] - 2s 3ms/step - loss: 28932034560.0000 - mae: 104673.1484 - val_loss: 29077696512.0000 - val_mae: 108155.2891\n",
            "Epoch 12/50\n",
            "486/486 [==============================] - 2s 5ms/step - loss: 28805650432.0000 - mae: 104438.5859 - val_loss: 28989706240.0000 - val_mae: 108291.0547\n",
            "Epoch 13/50\n",
            "486/486 [==============================] - 1s 3ms/step - loss: 28740136960.0000 - mae: 104104.7891 - val_loss: 28847357952.0000 - val_mae: 107841.3359\n",
            "Epoch 14/50\n",
            "486/486 [==============================] - 2s 4ms/step - loss: 28599812096.0000 - mae: 103925.2578 - val_loss: 28760438784.0000 - val_mae: 108225.5469\n",
            "Epoch 15/50\n",
            "486/486 [==============================] - 1s 3ms/step - loss: 28590739456.0000 - mae: 103654.9688 - val_loss: 29035962368.0000 - val_mae: 109003.0156\n",
            "Epoch 16/50\n",
            "486/486 [==============================] - 2s 3ms/step - loss: 28330508288.0000 - mae: 103381.9297 - val_loss: 29724936192.0000 - val_mae: 111182.4453\n",
            "Epoch 17/50\n",
            "486/486 [==============================] - 2s 3ms/step - loss: 28358610944.0000 - mae: 103356.7969 - val_loss: 28708276224.0000 - val_mae: 107818.7500\n",
            "Epoch 18/50\n",
            "486/486 [==============================] - 2s 4ms/step - loss: 28178993152.0000 - mae: 103083.1875 - val_loss: 28668237824.0000 - val_mae: 107587.6797\n",
            "Epoch 19/50\n",
            "486/486 [==============================] - 2s 4ms/step - loss: 28065601536.0000 - mae: 103004.9062 - val_loss: 28324851712.0000 - val_mae: 106599.2891\n",
            "Epoch 20/50\n",
            "486/486 [==============================] - 2s 4ms/step - loss: 27963516928.0000 - mae: 102785.3516 - val_loss: 28143521792.0000 - val_mae: 106156.9531\n",
            "Epoch 21/50\n",
            "486/486 [==============================] - 1s 3ms/step - loss: 27806801920.0000 - mae: 102421.8516 - val_loss: 28270358528.0000 - val_mae: 106895.3125\n",
            "Epoch 22/50\n",
            "486/486 [==============================] - 1s 3ms/step - loss: 27634702336.0000 - mae: 102425.8984 - val_loss: 28125179904.0000 - val_mae: 105752.4531\n",
            "Epoch 23/50\n",
            "486/486 [==============================] - 2s 4ms/step - loss: 27629932544.0000 - mae: 101976.1094 - val_loss: 27969144832.0000 - val_mae: 105639.6797\n",
            "Epoch 24/50\n",
            "486/486 [==============================] - 2s 4ms/step - loss: 27502340096.0000 - mae: 101567.0703 - val_loss: 28005292032.0000 - val_mae: 105665.7656\n",
            "Epoch 25/50\n",
            "486/486 [==============================] - 1s 3ms/step - loss: 27374032896.0000 - mae: 101631.0859 - val_loss: 27864260608.0000 - val_mae: 105139.1562\n",
            "Epoch 26/50\n",
            "486/486 [==============================] - 1s 3ms/step - loss: 27379372032.0000 - mae: 101283.3047 - val_loss: 27900545024.0000 - val_mae: 104644.4297\n",
            "Epoch 27/50\n",
            "486/486 [==============================] - 2s 4ms/step - loss: 27129477120.0000 - mae: 100876.5859 - val_loss: 28603437056.0000 - val_mae: 107230.6484\n",
            "Epoch 28/50\n",
            "486/486 [==============================] - 2s 4ms/step - loss: 27123335168.0000 - mae: 100975.3984 - val_loss: 27686164480.0000 - val_mae: 103763.3828\n",
            "Epoch 29/50\n",
            "486/486 [==============================] - 2s 3ms/step - loss: 26822717440.0000 - mae: 100432.6484 - val_loss: 27789938688.0000 - val_mae: 103034.9375\n",
            "Epoch 30/50\n",
            "486/486 [==============================] - 1s 3ms/step - loss: 26926753792.0000 - mae: 100196.7969 - val_loss: 27471036416.0000 - val_mae: 103469.4375\n",
            "Epoch 31/50\n",
            "486/486 [==============================] - 1s 3ms/step - loss: 26573811712.0000 - mae: 99716.0938 - val_loss: 27685222400.0000 - val_mae: 104812.2656\n",
            "Epoch 32/50\n",
            "486/486 [==============================] - 1s 3ms/step - loss: 26601338880.0000 - mae: 99832.2422 - val_loss: 27154305024.0000 - val_mae: 102832.8438\n",
            "Epoch 33/50\n",
            "486/486 [==============================] - 2s 3ms/step - loss: 26375872512.0000 - mae: 99364.3359 - val_loss: 27109625856.0000 - val_mae: 102449.9297\n",
            "Epoch 34/50\n",
            "486/486 [==============================] - 2s 4ms/step - loss: 26274930688.0000 - mae: 98877.1953 - val_loss: 26910431232.0000 - val_mae: 102010.7891\n",
            "Epoch 35/50\n",
            "486/486 [==============================] - 3s 5ms/step - loss: 26117144576.0000 - mae: 98535.8984 - val_loss: 27449438208.0000 - val_mae: 104582.6094\n",
            "Epoch 36/50\n",
            "486/486 [==============================] - 3s 6ms/step - loss: 25860046848.0000 - mae: 98474.3594 - val_loss: 26882578432.0000 - val_mae: 101428.8672\n",
            "Epoch 37/50\n",
            "486/486 [==============================] - 1s 3ms/step - loss: 25812439040.0000 - mae: 97933.6250 - val_loss: 26874273792.0000 - val_mae: 100998.5312\n",
            "Epoch 38/50\n",
            "486/486 [==============================] - 2s 4ms/step - loss: 25554817024.0000 - mae: 97289.7109 - val_loss: 26366756864.0000 - val_mae: 100721.6094\n",
            "Epoch 39/50\n",
            "486/486 [==============================] - 2s 3ms/step - loss: 25304956928.0000 - mae: 96676.7891 - val_loss: 26279249920.0000 - val_mae: 100554.7500\n",
            "Epoch 40/50\n",
            "486/486 [==============================] - 1s 3ms/step - loss: 25004978176.0000 - mae: 96197.0391 - val_loss: 26126819328.0000 - val_mae: 99635.2656\n",
            "Epoch 41/50\n",
            "486/486 [==============================] - 2s 4ms/step - loss: 24759652352.0000 - mae: 95248.7812 - val_loss: 25881149440.0000 - val_mae: 99279.5859\n",
            "Epoch 42/50\n",
            "486/486 [==============================] - 2s 4ms/step - loss: 24516741120.0000 - mae: 95040.4297 - val_loss: 25741967360.0000 - val_mae: 98418.2031\n",
            "Epoch 43/50\n",
            "486/486 [==============================] - 3s 6ms/step - loss: 24199858176.0000 - mae: 94045.8359 - val_loss: 25608833024.0000 - val_mae: 97212.0703\n",
            "Epoch 44/50\n",
            "486/486 [==============================] - 2s 3ms/step - loss: 23798603776.0000 - mae: 93542.9844 - val_loss: 25275383808.0000 - val_mae: 97321.4141\n",
            "Epoch 45/50\n",
            "486/486 [==============================] - 2s 4ms/step - loss: 23705755648.0000 - mae: 92960.2969 - val_loss: 25298061312.0000 - val_mae: 98474.3359\n",
            "Epoch 46/50\n",
            "486/486 [==============================] - 2s 4ms/step - loss: 23431626752.0000 - mae: 92576.3672 - val_loss: 24790220800.0000 - val_mae: 96692.7344\n",
            "Epoch 47/50\n",
            "486/486 [==============================] - 2s 3ms/step - loss: 23177740288.0000 - mae: 92063.2422 - val_loss: 24785850368.0000 - val_mae: 96468.2109\n",
            "Epoch 48/50\n",
            "486/486 [==============================] - 1s 3ms/step - loss: 22949539840.0000 - mae: 91661.3516 - val_loss: 24723050496.0000 - val_mae: 94833.9844\n",
            "Epoch 49/50\n",
            "486/486 [==============================] - 2s 4ms/step - loss: 22817792000.0000 - mae: 91015.9688 - val_loss: 24565884928.0000 - val_mae: 94885.6172\n",
            "Epoch 50/50\n",
            "486/486 [==============================] - 2s 5ms/step - loss: 22595921920.0000 - mae: 90574.8047 - val_loss: 24392796160.0000 - val_mae: 94781.0312\n"
          ]
        }
      ]
    },
    {
      "cell_type": "code",
      "source": [
        "loss, mae = model.evaluate(X_test_scaled, y_test)\n",
        "print(\"Test Loss:\", loss)\n",
        "print(\"Test MAE:\", mae)"
      ],
      "metadata": {
        "colab": {
          "base_uri": "https://localhost:8080/"
        },
        "id": "d0f090iL5pBF",
        "outputId": "2fb2378a-06f1-41e5-8a0a-ac386a3f1653"
      },
      "execution_count": null,
      "outputs": [
        {
          "output_type": "stream",
          "name": "stdout",
          "text": [
            "135/135 [==============================] - 0s 2ms/step - loss: 261875318784.0000 - mae: 425572.9062\n",
            "Test Loss: 261875318784.0\n",
            "Test MAE: 425572.90625\n"
          ]
        }
      ]
    }
  ],
  "metadata": {
    "colab": {
      "provenance": [],
      "include_colab_link": true
    },
    "kernelspec": {
      "display_name": "Python 3",
      "name": "python3"
    },
    "language_info": {
      "name": "python"
    }
  },
  "nbformat": 4,
  "nbformat_minor": 0
}