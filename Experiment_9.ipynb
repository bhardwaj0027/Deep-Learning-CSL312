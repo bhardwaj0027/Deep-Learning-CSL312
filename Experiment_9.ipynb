{
  "cells": [
    {
      "cell_type": "markdown",
      "metadata": {
        "id": "view-in-github",
        "colab_type": "text"
      },
      "source": [
        "<a href=\"https://colab.research.google.com/github/bhardwaj0027/Deep-Learning-CSL312/blob/main/Experiment_9.ipynb\" target=\"_parent\"><img src=\"https://colab.research.google.com/assets/colab-badge.svg\" alt=\"Open In Colab\"/></a>"
      ]
    },
    {
      "cell_type": "code",
      "execution_count": null,
      "id": "2c6cfcd6",
      "metadata": {
        "id": "2c6cfcd6"
      },
      "outputs": [],
      "source": [
        "import numpy as np\n",
        "import matplotlib.pyplot as plt\n",
        "from tensorflow.keras.datasets import cifar10\n",
        "from tensorflow.keras.models import Sequential\n",
        "from tensorflow.keras.layers import Conv2D, MaxPooling2D, Flatten, Dense\n",
        "from tensorflow.keras.utils import to_categorical"
      ]
    },
    {
      "cell_type": "code",
      "execution_count": null,
      "id": "0db04cb6",
      "metadata": {
        "id": "0db04cb6",
        "outputId": "d4d70aa5-15f6-4ab2-c955-e11815ebb57e"
      },
      "outputs": [
        {
          "name": "stdout",
          "output_type": "stream",
          "text": [
            "A local file was found, but it seems to be incomplete or outdated because the auto file hash does not match the original value of 6d958be074577803d12ecdefd02955f39262c83c16fe9348329d7fe0b5c001ce so we will re-download the data.\n",
            "Downloading data from https://www.cs.toronto.edu/~kriz/cifar-10-python.tar.gz\n",
            "170498071/170498071 [==============================] - 33s 0us/step\n"
          ]
        }
      ],
      "source": [
        "(X_train, y_train), (X_test, y_test) = cifar10.load_data()"
      ]
    },
    {
      "cell_type": "code",
      "execution_count": null,
      "id": "87d3161e",
      "metadata": {
        "id": "87d3161e",
        "outputId": "1d6cc4ed-62d2-409c-dc40-4a845c77581c"
      },
      "outputs": [
        {
          "name": "stdout",
          "output_type": "stream",
          "text": [
            "Training data shape: (50000, 32, 32, 3)\n",
            "Training labels shape: (50000, 1)\n",
            "Testing data shape: (10000, 32, 32, 3)\n",
            "Testing labels shape: (10000, 1)\n"
          ]
        }
      ],
      "source": [
        "print(\"Training data shape:\", X_train.shape)\n",
        "print(\"Training labels shape:\", y_train.shape)\n",
        "print(\"Testing data shape:\", X_test.shape)\n",
        "print(\"Testing labels shape:\", y_test.shape)"
      ]
    },
    {
      "cell_type": "code",
      "execution_count": null,
      "id": "805626e2",
      "metadata": {
        "id": "805626e2"
      },
      "outputs": [],
      "source": [
        "X_train = X_train.reshape((X_train.shape[0], 32, 32, 3)).astype('float32') / 255\n",
        "X_test = X_test.reshape((X_test.shape[0], 32, 32, 3)).astype('float32') / 255\n"
      ]
    },
    {
      "cell_type": "code",
      "execution_count": null,
      "id": "004ab808",
      "metadata": {
        "id": "004ab808"
      },
      "outputs": [],
      "source": [
        "y_train = to_categorical(y_train)\n",
        "y_test = to_categorical(y_test)"
      ]
    },
    {
      "cell_type": "code",
      "execution_count": null,
      "id": "c6bfe8b3",
      "metadata": {
        "id": "c6bfe8b3"
      },
      "outputs": [],
      "source": [
        "model = Sequential([\n",
        "    Conv2D(32, (3, 3), activation='relu', input_shape=(32, 32, 3)),\n",
        "    MaxPooling2D((2, 2)),\n",
        "    Conv2D(64, (3, 3), activation='relu'),\n",
        "    MaxPooling2D((2, 2)),\n",
        "    Conv2D(64, (3, 3), activation='relu'),\n",
        "    Flatten(),\n",
        "    Dense(64, activation='relu'),\n",
        "    Dense(10, activation='softmax')\n",
        "])\n"
      ]
    },
    {
      "cell_type": "code",
      "execution_count": null,
      "id": "0c8f9b75",
      "metadata": {
        "id": "0c8f9b75",
        "outputId": "94d7047e-8d08-4e22-ea1f-32f29095fd97"
      },
      "outputs": [
        {
          "name": "stdout",
          "output_type": "stream",
          "text": [
            "Model: \"sequential\"\n",
            "_________________________________________________________________\n",
            " Layer (type)                Output Shape              Param #   \n",
            "=================================================================\n",
            " conv2d (Conv2D)             (None, 30, 30, 32)        896       \n",
            "                                                                 \n",
            " max_pooling2d (MaxPooling2  (None, 15, 15, 32)        0         \n",
            " D)                                                              \n",
            "                                                                 \n",
            " conv2d_1 (Conv2D)           (None, 13, 13, 64)        18496     \n",
            "                                                                 \n",
            " max_pooling2d_1 (MaxPoolin  (None, 6, 6, 64)          0         \n",
            " g2D)                                                            \n",
            "                                                                 \n",
            " conv2d_2 (Conv2D)           (None, 4, 4, 64)          36928     \n",
            "                                                                 \n",
            " flatten (Flatten)           (None, 1024)              0         \n",
            "                                                                 \n",
            " dense (Dense)               (None, 64)                65600     \n",
            "                                                                 \n",
            " dense_1 (Dense)             (None, 10)                650       \n",
            "                                                                 \n",
            "=================================================================\n",
            "Total params: 122570 (478.79 KB)\n",
            "Trainable params: 122570 (478.79 KB)\n",
            "Non-trainable params: 0 (0.00 Byte)\n",
            "_________________________________________________________________\n"
          ]
        }
      ],
      "source": [
        "model.summary()"
      ]
    },
    {
      "cell_type": "code",
      "execution_count": null,
      "id": "932b6a5f",
      "metadata": {
        "id": "932b6a5f"
      },
      "outputs": [],
      "source": [
        "model.compile(optimizer='adam',\n",
        "              loss='categorical_crossentropy',\n",
        "              metrics=['accuracy'])"
      ]
    },
    {
      "cell_type": "code",
      "execution_count": null,
      "id": "09502ffe",
      "metadata": {
        "id": "09502ffe"
      },
      "outputs": [],
      "source": [
        "from keras.callbacks import EarlyStopping\n",
        "early_stopping = EarlyStopping(monitor='val_loss', mode='min', verbose=1, patience=5)"
      ]
    },
    {
      "cell_type": "code",
      "execution_count": null,
      "id": "9007b787",
      "metadata": {
        "id": "9007b787",
        "outputId": "d6b8323a-226b-4452-ef0b-778ef21ada5f"
      },
      "outputs": [
        {
          "name": "stdout",
          "output_type": "stream",
          "text": [
            "Epoch 1/10\n",
            "1250/1250 [==============================] - 74s 57ms/step - loss: 0.9659 - accuracy: 0.6616 - val_loss: 0.9796 - val_accuracy: 0.6592\n",
            "Epoch 2/10\n",
            "1250/1250 [==============================] - 71s 57ms/step - loss: 0.8674 - accuracy: 0.6952 - val_loss: 0.9455 - val_accuracy: 0.6735\n",
            "Epoch 3/10\n",
            "1250/1250 [==============================] - 69s 55ms/step - loss: 0.8005 - accuracy: 0.7209 - val_loss: 0.9401 - val_accuracy: 0.6803\n",
            "Epoch 4/10\n",
            "1250/1250 [==============================] - 74s 59ms/step - loss: 0.7595 - accuracy: 0.7343 - val_loss: 0.8960 - val_accuracy: 0.6863\n",
            "Epoch 5/10\n",
            "1250/1250 [==============================] - 75s 60ms/step - loss: 0.7052 - accuracy: 0.7527 - val_loss: 0.9193 - val_accuracy: 0.6902\n",
            "Epoch 6/10\n",
            "1250/1250 [==============================] - 71s 57ms/step - loss: 0.6635 - accuracy: 0.7667 - val_loss: 0.9002 - val_accuracy: 0.6959\n",
            "Epoch 7/10\n",
            "1250/1250 [==============================] - 71s 57ms/step - loss: 0.6284 - accuracy: 0.7779 - val_loss: 0.9224 - val_accuracy: 0.6930\n",
            "Epoch 8/10\n",
            "1250/1250 [==============================] - 73s 58ms/step - loss: 0.5857 - accuracy: 0.7946 - val_loss: 0.9024 - val_accuracy: 0.7126\n",
            "Epoch 9/10\n",
            "1250/1250 [==============================] - 69s 55ms/step - loss: 0.5474 - accuracy: 0.8070 - val_loss: 0.9082 - val_accuracy: 0.7053\n",
            "Epoch 9: early stopping\n"
          ]
        }
      ],
      "source": [
        "history = model.fit(X_train, y_train, epochs=10 , validation_split=0.2, callbacks=[early_stopping])"
      ]
    },
    {
      "cell_type": "code",
      "execution_count": null,
      "id": "ccaa5547",
      "metadata": {
        "id": "ccaa5547",
        "outputId": "762d5c53-94ef-4fff-e665-5276dbae6732"
      },
      "outputs": [
        {
          "name": "stdout",
          "output_type": "stream",
          "text": [
            "313/313 [==============================] - 6s 18ms/step - loss: 0.9219 - accuracy: 0.7024\n",
            "\n",
            "Test Accuracy: 70.24%\n"
          ]
        }
      ],
      "source": [
        "test_loss, test_accuracy = model.evaluate(X_test, y_test)\n",
        "print(\"\\nTest Accuracy: {:.2f}%\".format(test_accuracy * 100))"
      ]
    },
    {
      "cell_type": "code",
      "execution_count": null,
      "id": "843f7f19",
      "metadata": {
        "id": "843f7f19",
        "outputId": "4d0940a2-b7f2-409c-af0b-e478206def76"
      },
      "outputs": [
        {
          "data": {
            "image/png": "[encoded data removed]",
            "text/plain": [
              "<Figure size 432x288 with 1 Axes>"
            ]
          },
          "metadata": {
            "needs_background": "light"
          },
          "output_type": "display_data"
        }
      ],
      "source": [
        "plt.plot(history.history['loss'], label='Training Loss')\n",
        "plt.plot(history.history['val_loss'], label='Validation Loss')\n",
        "plt.xlabel('Epochs')\n",
        "plt.ylabel('Loss')\n",
        "plt.legend()\n",
        "plt.show()"
      ]
    }
  ],
  "metadata": {
    "kernelspec": {
      "display_name": "Python 3 (ipykernel)",
      "language": "python",
      "name": "python3"
    },
    "language_info": {
      "codemirror_mode": {
        "name": "ipython",
        "version": 3
      },
      "file_extension": ".py",
      "mimetype": "text/x-python",
      "name": "python",
      "nbconvert_exporter": "python",
      "pygments_lexer": "ipython3",
      "version": "3.9.12"
    },
    "colab": {
      "provenance": [],
      "include_colab_link": true
    }
  },
  "nbformat": 4,
  "nbformat_minor": 5
}